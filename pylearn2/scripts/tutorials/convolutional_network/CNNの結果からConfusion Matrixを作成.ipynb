{
 "metadata": {
  "name": "",
  "signature": "sha256:397be755c18fbae32307df01b310387adbf9280a64c5669792625a9dcc5acbc5"
 },
 "nbformat": 3,
 "nbformat_minor": 0,
 "worksheets": [
  {
   "cells": [
    {
     "cell_type": "code",
     "collapsed": false,
     "input": [
      "# coding:utf-8\n",
      "import numpy as np\n",
      "import pickle\n",
      "import theano\n",
      "result_pkl = 'convolutional_network_best.pkl'\n",
      "model = pickle.load(open(result_pkl))\n",
      "from pylearn2.datasets.mnist import MNIST\n",
      "test_data = MNIST(which_set='test')\n",
      "inputs = test_data.X"
     ],
     "language": "python",
     "metadata": {},
     "outputs": [],
     "prompt_number": 38
    },
    {
     "cell_type": "code",
     "collapsed": false,
     "input": [
      "space = VectorSpace(inputs.shape[1])\n",
      "X = space.get_theano_batch()\n",
      "Y = model.fprop(space.format_as(X, model.get_input_space()))\n",
      "f = theano.function([X], Y)\n",
      "\n",
      "result_prop = f(inputs)"
     ],
     "language": "python",
     "metadata": {},
     "outputs": [],
     "prompt_number": 51
    },
    {
     "cell_type": "code",
     "collapsed": false,
     "input": [
      "y_pred = [np.argmax(x) for x in result_prop]\n",
      "y_test = test_data.y"
     ],
     "language": "python",
     "metadata": {},
     "outputs": [],
     "prompt_number": 52
    },
    {
     "cell_type": "code",
     "collapsed": false,
     "input": [
      "from sklearn.metrics import confusion_matrix\n",
      "cm = confusion_matrix(y_test, y_pred)\n",
      "print(cm)"
     ],
     "language": "python",
     "metadata": {},
     "outputs": [
      {
       "output_type": "stream",
       "stream": "stdout",
       "text": [
        "[[ 977    0    0    0    0    0    0    1    2    0]\n",
        " [   1 1123    2    4    0    1    1    1    2    0]\n",
        " [   2    0 1024    1    0    0    0    3    2    0]\n",
        " [   0    0    1 1004    0    3    0    1    1    0]\n",
        " [   0    0    1    0  969    0    1    1    3    7]\n",
        " [   2    0    0    6    0  880    1    1    2    0]\n",
        " [   7    1    0    1    2    2  945    0    0    0]\n",
        " [   1    1    8    2    0    0    0 1014    2    0]\n",
        " [   3    0    1    4    1    0    1    2  961    1]\n",
        " [   6    2    1    3    7    4    0    6    4  976]]\n"
       ]
      }
     ],
     "prompt_number": 53
    },
    {
     "cell_type": "code",
     "collapsed": false,
     "input": [
      "test_data.y[1]"
     ],
     "language": "python",
     "metadata": {},
     "outputs": [
      {
       "metadata": {},
       "output_type": "pyout",
       "prompt_number": 28,
       "text": [
        "array([2], dtype=uint8)"
       ]
      }
     ],
     "prompt_number": 28
    },
    {
     "cell_type": "code",
     "collapsed": false,
     "input": [
      "X"
     ],
     "language": "python",
     "metadata": {},
     "outputs": [
      {
       "metadata": {},
       "output_type": "pyout",
       "prompt_number": 29,
       "text": [
        "<TensorType(float64, matrix)>"
       ]
      }
     ],
     "prompt_number": 29
    },
    {
     "cell_type": "code",
     "collapsed": false,
     "input": [],
     "language": "python",
     "metadata": {},
     "outputs": [
      {
       "ename": "IndexError",
       "evalue": "tuple index out of range",
       "output_type": "pyerr",
       "traceback": [
        "\u001b[0;31m---------------------------------------------------------------------------\u001b[0m\n\u001b[0;31mIndexError\u001b[0m                                Traceback (most recent call last)",
        "\u001b[0;32m<ipython-input-31-4af71a4ed961>\u001b[0m in \u001b[0;36m<module>\u001b[0;34m()\u001b[0m\n\u001b[0;32m----> 1\u001b[0;31m \u001b[0mfeature\u001b[0m\u001b[0;34m.\u001b[0m\u001b[0mshape\u001b[0m\u001b[0;34m[\u001b[0m\u001b[0;36m1\u001b[0m\u001b[0;34m]\u001b[0m\u001b[0;34m\u001b[0m\u001b[0m\n\u001b[0m",
        "\u001b[0;31mIndexError\u001b[0m: tuple index out of range"
       ]
      }
     ],
     "prompt_number": 31
    },
    {
     "cell_type": "code",
     "collapsed": false,
     "input": [],
     "language": "python",
     "metadata": {},
     "outputs": []
    }
   ],
   "metadata": {}
  }
 ]
}